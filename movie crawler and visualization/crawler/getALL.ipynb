{
 "cells": [
  {
   "cell_type": "code",
   "execution_count": 60,
   "metadata": {},
   "outputs": [
    {
     "data": {
      "text/plain": [
       "<module 'sys' (built-in)>"
      ]
     },
     "execution_count": 60,
     "metadata": {},
     "output_type": "execute_result"
    }
   ],
   "source": [
    "import importlib\n",
    "importlib.reload(sys)\n"
   ]
  },
  {
   "cell_type": "code",
   "execution_count": 61,
   "metadata": {},
   "outputs": [
    {
     "ename": "SyntaxError",
     "evalue": "invalid syntax (<ipython-input-61-4a14685a11f0>, line 1)",
     "output_type": "error",
     "traceback": [
      "\u001b[1;36m  File \u001b[1;32m\"<ipython-input-61-4a14685a11f0>\"\u001b[1;36m, line \u001b[1;32m1\u001b[0m\n\u001b[1;33m    Skip to content\u001b[0m\n\u001b[1;37m          ^\u001b[0m\n\u001b[1;31mSyntaxError\u001b[0m\u001b[1;31m:\u001b[0m invalid syntax\n"
     ]
    }
   ],
   "source": [
    "S\n",
    "#!/usr/bin/env python\n",
    "# coding:utf8\n",
    "\n",
    "'''\n",
    "\t一次性爬取豆瓣所有电影的概要信息\n",
    "\tauthor: Honlan\n",
    "\temail: 493722771@qq.com\n",
    "\tdate: 2015/09/06  \n",
    "'''\n",
    "\n",
    "\n",
    "import urllib.request as urlrequest\n",
    "import json\n",
    "import time\n",
    "\n",
    "ISOTIMEFORMAT='%Y-%m-%d %X'\n",
    "\n",
    "outputFile = 'douban_movie.txt'\n",
    "fw = open(outputFile, 'w')\n",
    "fw.write('id;title;url;cover;rate\\n')\n",
    "\n",
    "headers = {}\n",
    "headers[\"Accept\"] = \"text/html,application/xhtml+xml,application/xml;q=0.9,image/webp,*/*;q=0.8\"\n",
    "headers[\"Accept-Encoding\"] = \"gzip, deflate, sdch\"\n",
    "headers[\"Accept-Language\"] = \"zh-CN,zh;q=0.8,en;q=0.6,zh-TW;q=0.4,ja;q=0.2\"\n",
    "# headers[\"Cache-Control\"] = \"max-age=0\"\n",
    "headers[\"Connection\"] = \"keep-alive\"\n",
    "# headers[\"Cookie\"] = 'bid=\"LJSWKkSUfZE\"; ll=\"108296\"; __utmt=1; regpop=1; _pk_id.100001.4cf6=32aff4d8271b3f15.1442223906.2.1442237186.1442224653.; _pk_ses.100001.4cf6=*; __utmt_douban=1; __utma=223695111.736177897.1442223906.1442223906.1442236473.2; __utmb=223695111.0.10.1442236473; __utmc=223695111; __utmz=223695111.1442223906.1.1.utmcsr=(direct)|utmccn=(direct)|utmcmd=(none); __utma=30149280.674845100.1442223906.1442236473.1442236830.3; __utmb=30149280.4.9.1442237186215; __utmc=30149280; __utmz=30149280.1442236830.3.2.utmcsr=baidu|utmccn=(organic)|utmcmd=organic; ap=1'\n",
    "headers[\"Host\"] = \"movie.douban.com\"\n",
    "headers[\"Referer\"] = \"http://movie.douban.com/\"\n",
    "headers[\"Upgrade-Insecure-Requests\"] = 1\n",
    "headers[\"User-Agent\"] = \"Mozilla/5.0 (Macintosh; Intel Mac OS X 10_10_4) AppleWebKit/537.36 (KHTML, like Gecko) Chrome/45.0.2454.85 Safari/537.36\"\n",
    "\n",
    "# 获取tag\n",
    "request = urlrequest.Request(url=\"http://movie.douban.com/j/search_tags?type=movie\")\n",
    "response = urlrequest.urlopen(request)\n",
    "tags = json.loads(response.read())['tags']\n",
    "\n",
    "# 开始爬取\n",
    "print (\"********** START **********\")\n",
    "print time.strftime( ISOTIMEFORMAT, time.localtime() )\n",
    "\n",
    "for tag in tags:\n",
    "\tprint (\"Crawl movies with tag: \" + tag)\n",
    "\tprint time.strftime( ISOTIMEFORMAT, time.localtime() )\n",
    "\n",
    "\tstart = 0\n",
    "\twhile True:\n",
    "\t\turl = \"http://movie.douban.com/j/search_subjects?type=movie&tag=\" + tag.encode('utf8') + \"&page_limit=20&page_start=\" + str(start)\n",
    "\t\trequest = urllib2.Request(url=url)\n",
    "\t\tresponse = urllib2.urlopen(request)\n",
    "\t\tmovies = json.loads(response.read())['subjects']\n",
    "\t\tif len(movies) == 0:\n",
    "\t\t\tbreak\n",
    "\t\tfor item in movies:\n",
    "\t\t\trate = item['rate']\n",
    "\t\t\ttitle = item['title']\n",
    "\t\t\turl = item['url']\n",
    "\t\t\tcover = item['cover']\n",
    "\t\t\tmovieId = item['id']\n",
    "\t\t\trecord = str(movieId) + ';' + title + ';' + url + ';' + cover + ';' + str(rate) + '\\n'\n",
    "\t\t\tfw.write(record.encode('utf8'))\n",
    "\t\t\tprint tag + '\\t' + title\n",
    "\t\tstart = start + 20\n",
    "\n",
    "fw.close()\n",
    "© 2018 GitHub, Inc.\n",
    "Terms\n",
    "Privacy\n",
    "Security\n",
    "Status\n",
    "Help\n",
    "Contact GitHub\n",
    "Pricing\n",
    "API\n",
    "Training\n",
    "Blog\n",
    "About\n",
    "Press h to open a hovercard with more details."
   ]
  }
 ],
 "metadata": {
  "kernelspec": {
   "display_name": "Python 3",
   "language": "python",
   "name": "python3"
  },
  "language_info": {
   "codemirror_mode": {
    "name": "ipython",
    "version": 3
   },
   "file_extension": ".py",
   "mimetype": "text/x-python",
   "name": "python",
   "nbconvert_exporter": "python",
   "pygments_lexer": "ipython3",
   "version": "3.6.5"
  }
 },
 "nbformat": 4,
 "nbformat_minor": 2
}
